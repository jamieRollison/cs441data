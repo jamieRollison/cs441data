{
 "cells": [
  {
   "cell_type": "code",
   "execution_count": 2,
   "metadata": {},
   "outputs": [],
   "source": [
    "import pandas as pd\n",
    "import numpy as np\n",
    "from sklearn.model_selection import train_test_split"
   ]
  },
  {
   "cell_type": "code",
   "execution_count": 52,
   "metadata": {},
   "outputs": [],
   "source": [
    "rym = pd.read_csv(\"./rym-songs.csv\")\n",
    "data = rym.to_numpy()\n",
    "X = data[:, :-3].astype(np.float64)\n",
    "y = data[:, -1].astype(np.float64)\n",
    "X_train, X_other, y_train, y_other = train_test_split(X,y,test_size=0.3)\n",
    "X_val, X_test, y_val, y_test = train_test_split(X_other, y_other, test_size=0.4)"
   ]
  },
  {
   "cell_type": "code",
   "execution_count": 53,
   "metadata": {},
   "outputs": [],
   "source": [
    "from sklearn.linear_model import Ridge, RidgeClassifier, Lasso"
   ]
  },
  {
   "cell_type": "code",
   "execution_count": 54,
   "metadata": {},
   "outputs": [
    {
     "data": {
      "text/plain": [
       "0.5229867112955853"
      ]
     },
     "execution_count": 54,
     "metadata": {},
     "output_type": "execute_result"
    }
   ],
   "source": [
    "l2model = Ridge()\n",
    "l2model.fit(X_train, y_train)\n",
    "y_pred = l2model.predict(X_val)\n",
    "np.sqrt(np.mean((y_pred - y_val) ** 2))"
   ]
  },
  {
   "cell_type": "code",
   "execution_count": 55,
   "metadata": {},
   "outputs": [
    {
     "data": {
      "text/plain": [
       "0.5256186589425761"
      ]
     },
     "execution_count": 55,
     "metadata": {},
     "output_type": "execute_result"
    }
   ],
   "source": [
    "l1model = Lasso()\n",
    "l1model.fit(X_train, y_train)\n",
    "y_pred = l1model.predict(X_val)\n",
    "np.sqrt(np.mean((y_pred - y_val) ** 2))"
   ]
  },
  {
   "cell_type": "code",
   "execution_count": 56,
   "metadata": {},
   "outputs": [],
   "source": [
    "import torch\n",
    "from torch import nn\n",
    "import matplotlib.pyplot as plt\n",
    "device = 'cpu'"
   ]
  },
  {
   "cell_type": "code",
   "execution_count": 57,
   "metadata": {},
   "outputs": [],
   "source": [
    "def display_error_curves(training_losses, validation_losses):\n",
    "    \"\"\"\n",
    "    Plots the training and validation loss curves\n",
    "    training_losses and validation_losses should be lists or arrays of the same length\n",
    "    \"\"\"\n",
    "    num_epochs = len(training_losses)\n",
    "\n",
    "    plt.plot(range(num_epochs), training_losses, label=\"Training Loss\")\n",
    "    plt.plot(range(num_epochs), validation_losses, label=\"Validation Loss\")\n",
    "\n",
    "    # Add in a title and axes labels\n",
    "    plt.title(\"Training and Validation Loss\")\n",
    "    plt.xlabel(\"Epochs\")\n",
    "    plt.ylabel(\"Loss\")\n",
    "\n",
    "    # Display the plot\n",
    "    plt.legend(loc=\"best\")\n",
    "    plt.show()"
   ]
  },
  {
   "cell_type": "code",
   "execution_count": 58,
   "metadata": {},
   "outputs": [],
   "source": [
    "# Define the model\n",
    "class MLP(nn.Module):\n",
    "    def __init__(self, input_size, hidden_size, output_size):\n",
    "        super(MLP, self).__init__()\n",
    "        # Needs code here\n",
    "        self.layers = torch.nn.Sequential(\n",
    "            torch.nn.Linear(input_size, hidden_size, device=device),\n",
    "            torch.nn.ReLU(),\n",
    "            torch.nn.Linear(hidden_size, output_size, device=device),\n",
    "            torch.nn.Sigmoid(),\n",
    "        )\n",
    "\n",
    "    def forward(self, x):\n",
    "        # Needs code here\n",
    "        return self.layers(x)"
   ]
  },
  {
   "cell_type": "code",
   "execution_count": 73,
   "metadata": {},
   "outputs": [],
   "source": [
    "def train_MLP_mnist(train_loader, val_loader, lr=1e-3, num_epochs=100):\n",
    "    \"\"\"\n",
    "    Train a MLP\n",
    "    Input: train_loader and val_loader are dataloaders for the training and\n",
    "    val data, respectively. lr is the learning rate, and the network will\n",
    "    be trained for num_epochs epochs.\n",
    "    Output: return a trained MLP\n",
    "    \"\"\"\n",
    "    # TODO: fill in all code\n",
    "\n",
    "    input_size = 6\n",
    "    hidden_size = 4\n",
    "    output_size = 1\n",
    "\n",
    "    # Instantiate the model\n",
    "    mlp = MLP(input_size, hidden_size, output_size)\n",
    "\n",
    "    # Train the model, compute and store train/val loss at each epoch\n",
    "    optimizer = torch.optim.SGD(mlp.parameters(), lr)\n",
    "    loss_function = torch.nn.MSELoss()\n",
    "    t_loss = np.zeros(num_epochs)\n",
    "    v_loss = np.zeros(num_epochs)\n",
    "    for epoch in range(num_epochs):\n",
    "        # Set current loss value\n",
    "        if epoch % 20 == 0:\n",
    "            print(lr, epoch)\n",
    "        # Iterate over the DataLoader for training data\n",
    "        for i, data in enumerate(train_loader, 0):\n",
    "            inputs, targets = data  # Get inputs\n",
    "            optimizer.zero_grad()  # Zero the gradients\n",
    "            outputs = mlp(inputs.to(device)) \n",
    "            loss = loss_function(outputs, targets)  # Compute loss\n",
    "            loss.backward()  # Backprop loss\n",
    "            optimizer.step()  # Update weights\n",
    "\n",
    "        tr_loss = evaluate_MLP(mlp, train_loader)\n",
    "        ev_loss = evaluate_MLP(mlp, val_loader)\n",
    "        v_loss[epoch] = ev_loss\n",
    "        t_loss[epoch] = tr_loss\n",
    "\n",
    "    # Display Loss Curves\n",
    "    display_error_curves(t_loss, v_loss)\n",
    "    return mlp\n",
    "\n",
    "\n",
    "def evaluate_MLP(mlp, loader):\n",
    "    \"\"\"Computes loss and error rate given your mlp model and data loader\"\"\"\n",
    "    N = 0\n",
    "    loss = 0\n",
    "    loss_function = torch.nn.MSELoss()\n",
    "    with torch.set_grad_enabled(False):\n",
    "        for i, data in enumerate(loader, 0):\n",
    "\n",
    "            # Get inputs\n",
    "            inputs, targets = data\n",
    "            N += len(targets)\n",
    "\n",
    "            # Perform forward pass\n",
    "            outputs = mlp(inputs.to(device))\n",
    "\n",
    "            # Compute loss\n",
    "            loss += loss_function(outputs, targets.to(device)).item() * len(targets)\n",
    "            # print(loss)\n",
    "\n",
    "    loss /= N\n",
    "\n",
    "    return loss"
   ]
  },
  {
   "cell_type": "code",
   "execution_count": 74,
   "metadata": {},
   "outputs": [
    {
     "name": "stdout",
     "output_type": "stream",
     "text": [
      "0.001 0\n"
     ]
    },
    {
     "name": "stderr",
     "output_type": "stream",
     "text": [
      "/opt/homebrew/lib/python3.11/site-packages/torch/nn/modules/loss.py:536: UserWarning: Using a target size (torch.Size([256])) that is different to the input size (torch.Size([256, 1])). This will likely lead to incorrect results due to broadcasting. Please ensure they have the same size.\n",
      "  return F.mse_loss(input, target, reduction=self.reduction)\n",
      "/opt/homebrew/lib/python3.11/site-packages/torch/nn/modules/loss.py:536: UserWarning: Using a target size (torch.Size([39])) that is different to the input size (torch.Size([39, 1])). This will likely lead to incorrect results due to broadcasting. Please ensure they have the same size.\n",
      "  return F.mse_loss(input, target, reduction=self.reduction)\n",
      "/opt/homebrew/lib/python3.11/site-packages/torch/nn/modules/loss.py:536: UserWarning: Using a target size (torch.Size([149])) that is different to the input size (torch.Size([149, 1])). This will likely lead to incorrect results due to broadcasting. Please ensure they have the same size.\n",
      "  return F.mse_loss(input, target, reduction=self.reduction)\n"
     ]
    },
    {
     "name": "stdout",
     "output_type": "stream",
     "text": [
      "0.001 20\n",
      "0.001 40\n",
      "0.001 60\n",
      "0.001 80\n"
     ]
    },
    {
     "data": {
      "image/png": "[encoded data removed]",
      "text/plain": [
       "<Figure size 640x480 with 1 Axes>"
      ]
     },
     "metadata": {},
     "output_type": "display_data"
    }
   ],
   "source": [
    "trainset = torch.utils.data.TensorDataset(\n",
    "    torch.Tensor(X_train), torch.Tensor(y_train)\n",
    ")\n",
    "train_loader = torch.utils.data.DataLoader(\n",
    "    trainset, batch_size=256, shuffle=True, num_workers=1\n",
    ")\n",
    "valset = torch.utils.data.TensorDataset(\n",
    "    torch.Tensor(X_val), torch.Tensor(y_val)\n",
    ")\n",
    "val_loader = torch.utils.data.DataLoader(\n",
    "    valset, batch_size=256, shuffle=True, num_workers=1\n",
    ")\n",
    "\n",
    "\n",
    "mlp = train_MLP_mnist(train_loader, val_loader)"
   ]
  },
  {
   "cell_type": "code",
   "execution_count": 81,
   "metadata": {},
   "outputs": [],
   "source": [
    "with torch.set_grad_enabled(False):\n",
    "    y_pred = mlp(torch.Tensor(X_val)).numpy()\n",
    "    rmse = np.sqrt(np.mean((y_pred - y_val) ** 2))"
   ]
  },
  {
   "cell_type": "code",
   "execution_count": 82,
   "metadata": {},
   "outputs": [
    {
     "data": {
      "text/plain": [
       "2.5529500666193754"
      ]
     },
     "execution_count": 82,
     "metadata": {},
     "output_type": "execute_result"
    }
   ],
   "source": [
    "rmse"
   ]
  },
  {
   "cell_type": "code",
   "execution_count": 90,
   "metadata": {},
   "outputs": [],
   "source": [
    "from sklearn import tree\n",
    "from sklearn.ensemble import RandomForestRegressor\n",
    "from sklearn.ensemble import GradientBoostingRegressor"
   ]
  },
  {
   "cell_type": "code",
   "execution_count": 108,
   "metadata": {},
   "outputs": [],
   "source": [
    "forest = RandomForestRegressor(random_state=1, max_features=1 / 6).fit(X_train, y_train)\n",
    "boosted = GradientBoostingRegressor(random_state=0).fit(X_train, y_train)"
   ]
  },
  {
   "cell_type": "code",
   "execution_count": 109,
   "metadata": {},
   "outputs": [
    {
     "name": "stdout",
     "output_type": "stream",
     "text": [
      "0.5027404542297231\n",
      "0.5169230113584179\n"
     ]
    }
   ],
   "source": [
    "y_pred = forest.predict(X_val)\n",
    "print(np.sqrt(np.mean((y_pred - y_val) ** 2)))\n",
    "y_pred = boosted.predict(X_val)\n",
    "print(np.sqrt(np.mean((y_pred - y_val) ** 2)))"
   ]
  },
  {
   "cell_type": "code",
   "execution_count": null,
   "metadata": {},
   "outputs": [],
   "source": []
  }
 ],
 "metadata": {
  "kernelspec": {
   "display_name": "Python 3",
   "language": "python",
   "name": "python3"
  },
  "language_info": {
   "codemirror_mode": {
    "name": "ipython",
    "version": 3
   },
   "file_extension": ".py",
   "mimetype": "text/x-python",
   "name": "python",
   "nbconvert_exporter": "python",
   "pygments_lexer": "ipython3",
   "version": "3.11.8"
  }
 },
 "nbformat": 4,
 "nbformat_minor": 2
}
